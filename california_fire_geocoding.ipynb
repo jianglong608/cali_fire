{
 "cells": [
  {
   "cell_type": "markdown",
   "metadata": {},
   "source": [
    "# California 2017 Fire recovery geocoding part"
   ]
  },
  {
   "cell_type": "code",
   "execution_count": 1,
   "metadata": {
    "collapsed": true
   },
   "outputs": [],
   "source": [
    "import pandas as pd\n",
    "import matplotlib.pyplot as plt\n",
    "import seaborn as sb\n",
    "import numpy as np\n",
    "from shapely.geometry import Point, LineString, MultiPolygon, asMultiPolygon, Polygon\n",
    "from shapely import wkb, wkt\n",
    "import shapely\n",
    "import geopandas as gpd\n",
    "from shapely.ops import unary_union\n",
    "import requests\n",
    "from bs4 import BeautifulSoup\n",
    "import re\n",
    "import os\n",
    "import zipfile\n",
    "import wget\n",
    "from datetime import datetime\n",
    "from multiprocessing.dummy import Pool as ThreadPool \n",
    "import geocoder\n",
    "import geopy\n",
    "%matplotlib inline\n",
    "\n",
    "import sys\n",
    "# sys.path.insert(0, '/Users/jianglongli/Desktop/workbook/Freddie_project/PostGIS/gisfeaturecode_v7/')\n",
    "from mapping_utility_v2 import map_geopandas, map_AllHouses\n",
    "from mapping_utility_fire import map_geopandas_fire\n",
    "from python_postgis_talk_utility import transform_pd_to_gpd_general, transform_pd_to_gpd\n",
    "from cali_fire_utility import geomatch, readin_shapefile, timer, fire_postprocessing, create_fire_union\n",
    "from cali_fire_utility import download_and_create_shp, download_read_curent_fire\n",
    "from cali_fire_utility import map_fires, geocode, multigeocoding, multigeocoding_and_repair\n",
    "\n",
    "pd.options.display.max_columns = 100"
   ]
  },
  {
   "cell_type": "code",
   "execution_count": 2,
   "metadata": {
    "collapsed": true
   },
   "outputs": [],
   "source": [
    "import warnings\n",
    "warnings.simplefilter(\"ignore\")"
   ]
  },
  {
   "cell_type": "code",
   "execution_count": 3,
   "metadata": {
    "collapsed": true
   },
   "outputs": [],
   "source": [
    "url_cali = \"https://rmgsc.cr.usgs.gov/outgoing/GeoMAC/current_year_fire_data/California/\"\n",
    "url_master = \"https://rmgsc.cr.usgs.gov\"\n",
    "folder_root = '/Users/jianglongli/Desktop/workbook/data/disaster_recovery'\n",
    "folder_sub = 'cali_fire'"
   ]
  },
  {
   "cell_type": "markdown",
   "metadata": {},
   "source": [
    "### read in hve turned off file and try matching"
   ]
  },
  {
   "cell_type": "code",
   "execution_count": 4,
   "metadata": {},
   "outputs": [
    {
     "name": "stdout",
     "output_type": "stream",
     "text": [
      "raw hve count: 359266\n",
      "valid lat/lng count: 324931\n",
      "null lat/lng hve: 34335\n"
     ]
    }
   ],
   "source": [
    "hve_raw = pd.read_csv('%s/cali_turnedoff/cali_turned_off.csv' % folder_root, dtype={'zip': str})\n",
    "print('raw hve count: %s' % hve_raw.shape[0])\n",
    "\n",
    "hve_raw.loc[:, 'long'] = hve_raw['long'].apply(lambda x: -x if x>0 else x)\n",
    "hve = hve_raw[hve_raw.lat.notnull()]\n",
    "print('valid lat/lng count: %s' % hve.shape[0])\n",
    "\n",
    "hve_null = hve_raw[hve_raw.lat.isnull()]\n",
    "hve_null.loc[:, 'address'] = hve_null.apply(lambda row: row['address'] + ',' + ' CA ' + row['zip'], axis=1)\n",
    "sample = hve_null.sample(100)\n",
    "print('null lat/lng hve: %s' % hve_null.shape[0])"
   ]
  },
  {
   "cell_type": "code",
   "execution_count": 15,
   "metadata": {},
   "outputs": [
    {
     "name": "stderr",
     "output_type": "stream",
     "text": [
      "Status code Unknown from https://geocode.arcgis.com/arcgis/rest/services/World/GeocodeServer/find: ERROR - HTTPSConnectionPool(host='geocode.arcgis.com', port=443): Read timed out. (read timeout=5.0)\n",
      "Status code Unknown from https://geocode.arcgis.com/arcgis/rest/services/World/GeocodeServer/find: ERROR - HTTPSConnectionPool(host='geocode.arcgis.com', port=443): Read timed out. (read timeout=5.0)\n",
      "Status code Unknown from https://geocode.arcgis.com/arcgis/rest/services/World/GeocodeServer/find: ERROR - HTTPSConnectionPool(host='geocode.arcgis.com', port=443): Read timed out. (read timeout=5.0)\n",
      "Status code Unknown from https://geocode.arcgis.com/arcgis/rest/services/World/GeocodeServer/find: ERROR - HTTPSConnectionPool(host='geocode.arcgis.com', port=443): Read timed out. (read timeout=5.0)\n",
      "Status code Unknown from https://geocode.arcgis.com/arcgis/rest/services/World/GeocodeServer/find: ERROR - HTTPSConnectionPool(host='geocode.arcgis.com', port=443): Read timed out. (read timeout=5.0)\n",
      "Status code Unknown from https://geocode.arcgis.com/arcgis/rest/services/World/GeocodeServer/find: ERROR - HTTPSConnectionPool(host='geocode.arcgis.com', port=443): Read timed out. (read timeout=5.0)\n",
      "Status code Unknown from https://geocode.arcgis.com/arcgis/rest/services/World/GeocodeServer/find: ERROR - HTTPSConnectionPool(host='geocode.arcgis.com', port=443): Read timed out. (read timeout=5.0)\n",
      "Status code Unknown from https://geocode.arcgis.com/arcgis/rest/services/World/GeocodeServer/find: ERROR - HTTPSConnectionPool(host='geocode.arcgis.com', port=443): Read timed out. (read timeout=5.0)\n",
      "Status code Unknown from https://geocode.arcgis.com/arcgis/rest/services/World/GeocodeServer/find: ERROR - HTTPSConnectionPool(host='geocode.arcgis.com', port=443): Read timed out. (read timeout=5.0)\n",
      "Status code Unknown from https://geocode.arcgis.com/arcgis/rest/services/World/GeocodeServer/find: ERROR - HTTPSConnectionPool(host='geocode.arcgis.com', port=443): Read timed out. (read timeout=5.0)\n",
      "Status code Unknown from https://geocode.arcgis.com/arcgis/rest/services/World/GeocodeServer/find: ERROR - HTTPSConnectionPool(host='geocode.arcgis.com', port=443): Read timed out. (read timeout=5.0)\n",
      "Status code Unknown from https://geocode.arcgis.com/arcgis/rest/services/World/GeocodeServer/find: ERROR - HTTPSConnectionPool(host='geocode.arcgis.com', port=443): Read timed out. (read timeout=5.0)\n",
      "Status code Unknown from https://geocode.arcgis.com/arcgis/rest/services/World/GeocodeServer/find: ERROR - HTTPSConnectionPool(host='geocode.arcgis.com', port=443): Read timed out. (read timeout=5.0)\n",
      "Status code Unknown from https://geocode.arcgis.com/arcgis/rest/services/World/GeocodeServer/find: ERROR - HTTPSConnectionPool(host='geocode.arcgis.com', port=443): Read timed out. (read timeout=5.0)\n",
      "Status code Unknown from https://geocode.arcgis.com/arcgis/rest/services/World/GeocodeServer/find: ERROR - HTTPSConnectionPool(host='geocode.arcgis.com', port=443): Read timed out. (read timeout=5.0)\n",
      "Status code Unknown from https://geocode.arcgis.com/arcgis/rest/services/World/GeocodeServer/find: ERROR - HTTPSConnectionPool(host='geocode.arcgis.com', port=443): Read timed out. (read timeout=5.0)\n",
      "Status code Unknown from https://geocode.arcgis.com/arcgis/rest/services/World/GeocodeServer/find: ERROR - HTTPSConnectionPool(host='geocode.arcgis.com', port=443): Read timed out. (read timeout=5.0)\n",
      "Status code Unknown from https://geocode.arcgis.com/arcgis/rest/services/World/GeocodeServer/find: ERROR - HTTPSConnectionPool(host='geocode.arcgis.com', port=443): Read timed out. (read timeout=5.0)\n",
      "Status code Unknown from https://geocode.arcgis.com/arcgis/rest/services/World/GeocodeServer/find: ERROR - HTTPSConnectionPool(host='geocode.arcgis.com', port=443): Read timed out. (read timeout=5.0)\n",
      "Status code Unknown from https://geocode.arcgis.com/arcgis/rest/services/World/GeocodeServer/find: ERROR - HTTPSConnectionPool(host='geocode.arcgis.com', port=443): Read timed out. (read timeout=5.0)\n"
     ]
    },
    {
     "name": "stdout",
     "output_type": "stream",
     "text": [
      "20 addresses has failed geocoding! 15:21:28\n",
      "20 addresses has been repaired! 15:21:40\n",
      "CPU times: user 9.97 s, sys: 747 ms, total: 10.7 s\n",
      "Wall time: 2min 46s\n"
     ]
    }
   ],
   "source": [
    "%%time\n",
    "hve_geocode = multigeocoding_and_repair(hve_null.sample(500), 20, 6, verb=False)"
   ]
  },
  {
   "cell_type": "code",
   "execution_count": 16,
   "metadata": {},
   "outputs": [],
   "source": [
    "assert(hve_geocode.geocd.hasnans == False)\n",
    "hve_geocode.loc[:, 'lat'] = hve_geocode.geocd.apply(lambda x: x[0])\n",
    "hve_geocode.loc[:, 'long'] = hve_geocode.geocd.apply(lambda x: x[1])\n",
    "hve_geocode = hve_geocode.drop('geocd', axis=1)\n",
    "hve_processed = pd.concat([hve, hve_geocode])"
   ]
  },
  {
   "cell_type": "code",
   "execution_count": 5,
   "metadata": {},
   "outputs": [],
   "source": [
    "# hve_processed.to_csv(folder_root + '/' + 'cali_turned_off_geocoded.csv', index=False)"
   ]
  },
  {
   "cell_type": "markdown",
   "metadata": {},
   "source": [
    "# Reference\n",
    "\n",
    "+ **GeoMAC data, part of USGS, this data provides file polygons**: https://www.geomac.gov/index.shtml \n",
    "    - shapefile: https://rmgsc.cr.usgs.gov/outgoing/GeoMAC/\n",
    "    - data attribute definition: \n",
    "        * https://www.nwcg.gov/sites/default/files/stds/WildlandFirePerimeters_definition.pdf\n",
    "        * https://rmgsc.cr.usgs.gov/outgoing/GeoMAC/historic_fire_data/perimeters_dd83_METADATA.htm\n",
    "    - curent file perimeter methodology: https://www.geomac.gov/viewer/help/perimeters_active.html    \n",
    "    - GeoMAC map viewer help and documentation:https://www.geomac.gov/viewer/help/Help.html\n",
    "    - a 2008 publication about GeoMAC: https://pubs.usgs.gov/ds/612/pdf/ds612.pdf\n",
    "    - a 2008 GeoMAC user guide: https://webarchive.library.unt.edu/eot2008/20080916004656/http://geomac.gov/pdf/UsersGuide/GeoMAC_UG.pdf\n",
    "\n",
    "\n",
    "+ **USGS**: https://www.usgs.gov/centers/gecsc\n",
    "\n",
    "\n",
    "+ **Data Basin view of GeoMAC**: https://databasin.org/datasets/6ed18e2a72e74b0d81e14c93d5b46f07\n",
    "\n",
    "\n",
    "+ **NASA Fire Information for Resource Management System (FIRMS), mostly point data, near real time**: https://earthdata.nasa.gov/earth-observation-data/near-real-time/firms\n",
    "\n",
    "\n",
    "+ **CA fire org, has google map fire range, but not sure how to get the shapefile**: http://www.calfire.ca.gov/general/firemaps\n",
    "    - FRAP program from Cal Fire also has fire perimeter data: http://frap.fire.ca.gov/data/frapgisdata-sw-fireperimeters_download\n",
    "    \n",
    "    \n",
    "+ **KML file tutorial**: https://developers.google.com/kml/documentation/kml_tut"
   ]
  },
  {
   "cell_type": "markdown",
   "metadata": {},
   "source": [
    "# Note\n",
    "\n",
    "**GeoMAC fire perimeters:**\n",
    "his layer contains fire perimeters that are submitted to GeoMAC by field offices. The fire perimeters are updated every one or two days, as the data is made available. If we have received no new data, the \"expired\" layer is not replaced. The layer is replaced as soon as we receive an updated file. Perimeters are usually collected on a daily basis for large fires that are growing. However, there may be gaps in daily coverage.\n",
    "\n",
    "The GeoMAC team attributes the perimeters using the IRWIN (Integrated Reporting of Wildland-Fire Information) system.\n",
    "\n",
    "Perimeters are collected in the field by a variety of means, including infrared flights, and by using a GPS unit to map the perimeter. Please NOTE: GeoMAC only displays perimeter data as they are submitted by field offices. Since data are not received for all fires, you may not be able to view perimeters for every fire.\n",
    "\n",
    "Perimeter data displayed in and delivered by the Geomac application is not the final or official perimeter for any incident and is provided for informational purposes only. The final official perimeter should be obtained from the host unit which can be determined by looking at the Unit Id for any specific fire. The host unit is responsible for producing official and final perimeters for all incidents in their jurisdiction.\n",
    "\n",
    "\n",
    "**Cal Fire**: \n",
    "As part of the California Fire Plan, the Fire and Resource Assessment Program (FRAP) compiles fire perimeters and has established an on-going fire perimeter data capture process in order to update vegetative fuel rank maps. CAL FIRE/FRAP, the USDA Forest Service Region 5 Remote Sensing Lab, the Bureau of Land Management, and the National Park Service jointly develop the comprehensive fire perimeter GIS layer for public and private lands throughout California.\n",
    "\n",
    "The fire perimeter database represents the most complete digital record of fire perimeters in California. However it is still incomplete in many respects. Fire perimeter database users must exercise caution to avoid inaccurate or erroneous conclusions. For more information on potential errors and their source please review the methodology section of these pages."
   ]
  },
  {
   "cell_type": "markdown",
   "metadata": {
    "collapsed": true
   },
   "source": [
    "# Web Scraping reflection\n",
    "+ try scrapy (scrapy vs beautifulsoup): https://blog.michaelyin.info/2017/08/10/scrapy-tutorial-1-scrapy-vs-beautiful-soup/\n",
    "\n",
    "+ scrapy is a framework: https://hexfox.com/p/scrapy-vs-beautifulsoup/"
   ]
  },
  {
   "cell_type": "code",
   "execution_count": null,
   "metadata": {
    "collapsed": true
   },
   "outputs": [],
   "source": []
  }
 ],
 "metadata": {
  "kernelspec": {
   "display_name": "Python 3",
   "language": "python",
   "name": "python3"
  },
  "language_info": {
   "codemirror_mode": {
    "name": "ipython",
    "version": 3
   },
   "file_extension": ".py",
   "mimetype": "text/x-python",
   "name": "python",
   "nbconvert_exporter": "python",
   "pygments_lexer": "ipython3",
   "version": "3.6.0"
  }
 },
 "nbformat": 4,
 "nbformat_minor": 2
}
